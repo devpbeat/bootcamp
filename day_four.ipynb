{
 "cells": [
  {
   "attachments": {},
   "cell_type": "markdown",
   "metadata": {},
   "source": [
    "## Challenge 1 - 15 min🤺\n",
    "Escribir un programa que cree un diccionario vacío y lo vaya llenado con información sobre una persona (por ejemplo nombre, edad, sexo, teléfono, correo electrónico, etc.) que se le pida al usuario. Cada vez que se añada un nuevo dato debe imprimirse el contenido del diccionario."
   ]
  },
  {
   "cell_type": "code",
   "execution_count": 1,
   "metadata": {},
   "outputs": [
    {
     "name": "stdout",
     "output_type": "stream",
     "text": [
      "Hola Nahuel\n",
      "Tu apellido es: Pereira\n",
      "Tu edad es: 22\n",
      "Tu genero es: Masculino\n",
      "Tu numero de telefono es: 0971243514\n",
      "Tu direccion de correo es: yo@devpbeat.rocks\n"
     ]
    }
   ],
   "source": [
    "persona = dict()\n",
    "\n",
    "persona['name'] = input(\"Favor ingresar su nombre:\")\n",
    "print(\"Hola\", persona['name'])\n",
    "persona['last_name'] = input(\"Favor ingresar su apellido:\")\n",
    "print(\"Tu apellido es:\", persona['last_name'])\n",
    "persona['age'] = input(\"Favor ingresar su  edad:\")\n",
    "print(\"Tu edad es:\", persona['age'])\n",
    "persona['gender'] = input(\"Favor ingresar su genero:\")\n",
    "print(\"Tu genero es:\", persona['gender'])\n",
    "persona['phone_number'] = input(\"Favor ingresar su numero de telefono\")\n",
    "print(\"Tu numero de telefono es:\", persona['phone_number'])\n",
    "persona['email'] = input(\"Favor ingresar su direccion de correo\")\n",
    "print(\"Tu direccion de correo es:\", persona['email'])\n"
   ]
  },
  {
   "attachments": {},
   "cell_type": "markdown",
   "metadata": {},
   "source": [
    "## Challenge 2 - 15 min🤺\n",
    "\n",
    "Dado este diccionario:\n",
    "tarjeta_personal = {\"nombre\": \"Juan Perez\"} \n",
    "\n",
    "Crear una tarjeta personal. El usuario (mediante input) puede elegir:\n",
    "\n",
    "1. Crear datos nuevos\n",
    "2. Modificar datos\n",
    "3. Eliminar datos"
   ]
  },
  {
   "cell_type": "code",
   "execution_count": 5,
   "metadata": {},
   "outputs": [
    {
     "name": "stdout",
     "output_type": "stream",
     "text": [
      "{'nombre': 'Nahuel'}\n",
      "Gracias por usar el gestor de tarjetas personales\n"
     ]
    }
   ],
   "source": [
    "# Utilidad que limpia consola de output en Jupyter\n",
    "from IPython.display import clear_output\n",
    "\n",
    "# Inicializacion de variables\n",
    "tarjeta_personal = dict()\n",
    "valor = 0\n",
    "\n",
    "def imprimir_menu():\n",
    "    \"\"\"Funcion que imprime menu de opciones y retorna la opcion elegida \"\"\"\n",
    "    print(\"Bienvenido al gestor de tarjetas personales.\")\n",
    "    print(\"Favor elija una opcion.\")\n",
    "    print(\"1. Crear datos nuevos\")\n",
    "    print(\"2. Modificar datos\")\n",
    "    print(\"3. Eliminar datos\")\n",
    "    print(\"4. Salir\")\n",
    "    valor = int(input(\"Elegir opcion: \"))\n",
    "    return valor \n",
    "\n",
    "while True:\n",
    "    # Invoca funcion imprimir menu\n",
    "    valor = imprimir_menu()\n",
    "    # Limpia la consola\n",
    "    clear_output()\n",
    "    if valor ==  1:\n",
    "        # Crea un nuevo valor\n",
    "        value = input(\"Elegir nombre del valor a crear: \")\n",
    "        tarjeta_personal[value] = input(f\"Favor ingrese el valor de {value}: \")\n",
    "        print(f\"El valor de {value} es: {tarjeta_personal[value]}\")\n",
    "        print(\"La tarjeta personal es: \", tarjeta_personal)\n",
    "    elif valor == 2:\n",
    "        # Modifica un valor existente\n",
    "        print(\"Datos:\")\n",
    "        print(tarjeta_personal)\n",
    "        value = input(\"Favor escriba el nombre del valor a modificar:\")\n",
    "        if tarjeta_personal[value]:\n",
    "            tarjeta_personal[value] = input(f\"Favor ingrese el valor de {value}: \")\n",
    "            clear_output()\n",
    "            print(\"La tarjeta personal es: \", tarjeta_personal)\n",
    "        else:\n",
    "            print(\"El valor no existe\")\n",
    "    elif valor == 3:\n",
    "        # Elimina un valor existente\n",
    "        print(\"Datos:\")\n",
    "        print(tarjeta_personal)\n",
    "        value = input(\"Favor escriba el nombre del valor a eliminar:\")\n",
    "        if tarjeta_personal[value]:\n",
    "            del tarjeta_personal[value]\n",
    "            clear_output()\n",
    "            print(\"La tarjeta personal es: \", tarjeta_personal)\n",
    "        else:\n",
    "            print(\"El valor no existe\")\n",
    "    elif valor == 4:\n",
    "        # Salir\n",
    "        print(tarjeta_personal)\n",
    "        print(\"Gracias por usar el gestor de tarjetas personales\")\n",
    "        break\n"
   ]
  },
  {
   "attachments": {},
   "cell_type": "markdown",
   "metadata": {},
   "source": [
    "## Challenge - 15 min 🤺\n",
    "\n",
    "Crear dos class de animales que tengan atributos de clase y de instancia.\n",
    "\n",
    "- Atributos de clase: especie.\n",
    "- Atributos de instancia: nombre & color.\\\n",
    "Luego, crear nuevos objetos a partir de las nuevas class. Imprimir el nombre y el color de los animales en una frase que diga: \"Me llamo {nombre} y soy un {especie} de color {color}\"."
   ]
  },
  {
   "cell_type": "code",
   "execution_count": 7,
   "metadata": {},
   "outputs": [
    {
     "name": "stdout",
     "output_type": "stream",
     "text": [
      "Me llamo Pepe y soy un Bufonidae de color verde\n",
      "Me llamo Willy y soy un Balaenopteridae de color rojo\n"
     ]
    }
   ],
   "source": [
    "class Ballena:\n",
    "    especie = \"Balaenopteridae\"\n",
    "    def __init__(self, nombre, color):\n",
    "        self.nombre = nombre\n",
    "        self.color = color\n",
    "    \n",
    "    def __str__(self):\n",
    "        return f\"Me llamo {self.nombre} y soy un {self.especie} de color {self.color}\"\n",
    "\n",
    "class Sapo:\n",
    "    especie = \"Bufonidae\"\n",
    "    def __init__(self, nombre, color):\n",
    "        self.nombre = nombre\n",
    "        self.color = color\n",
    "    \n",
    "    def __str__(self):\n",
    "        return f\"Me llamo {self.nombre} y soy un {self.especie} de color {self.color}\"\n",
    "\n",
    "\n",
    "pepe = Sapo(\"Pepe\", \"verde\")\n",
    "print(pepe)\n",
    "\n",
    "willy = Ballena(\"Willy\", \"rojo\")\n",
    "print(willy)"
   ]
  },
  {
   "attachments": {},
   "cell_type": "markdown",
   "metadata": {},
   "source": [
    "## Challenge - 15 m 🤺\n",
    "Crear dos métodos por animal, que sea hablar y moverse.\n",
    "\n",
    "En el método hablar, imprimir: \"Cuando hablo, digo X\".\n",
    "En el método mover, imprimir: \"Cuando me muevo, hago X\".\n",
    "\n",
    "X debe ser algo específico de ese animal"
   ]
  },
  {
   "cell_type": "code",
   "execution_count": null,
   "metadata": {},
   "outputs": [],
   "source": [
    "class Ballena:\n",
    "    especie = \"Balaenopteridae\"\n",
    "    def __init__(self, nombre, color):\n",
    "        self.nombre = nombre\n",
    "        self.color = color\n",
    "    \n",
    "    def __str__(self):\n",
    "        return f\"Me llamo {self.nombre} y soy un {self.especie} de color {self.color}\"\n",
    "\n",
    "    def mover(self):\n",
    "        print(\"Me estoy moviendo\")\n",
    "    \n",
    "    def hablar(self):\n",
    "        print(\"Cuando hablo, emito frecuencias de sonido que se perciben como vibraciones\")\n",
    "\n",
    "class Sapo:\n",
    "    especie = \"Bufonidae\"\n",
    "    def __init__(self, nombre, color):\n",
    "        self.nombre = nombre\n",
    "        self.color = color\n",
    "    \n",
    "    def __str__(self):\n",
    "        return f\"Me llamo {self.nombre} y soy un {self.especie} de color {self.color}\"\n",
    "    \n",
    "    def mover(self):\n",
    "        print(\"Me estoy moviendo\")\n",
    "    \n",
    "    def hablar(self):\n",
    "        print(\"Cuando hablo, digo croac croac\")\n",
    "\n",
    "\n",
    "pepe = Sapo(\"Pepe\", \"verde\")\n",
    "print(pepe)\n",
    "\n",
    "willy = Ballena(\"Willy\", \"rojo\")\n",
    "print(willy)"
   ]
  },
  {
   "attachments": {},
   "cell_type": "markdown",
   "metadata": {},
   "source": [
    "## Challenge 🤺\n",
    "Definir una clase principal que HEREDE a dos clases nuevas, dos funciones o metodos. \n",
    "Mostrar ambos metodos en pantalla desde los objetos de las clases nuevas."
   ]
  },
  {
   "cell_type": "code",
   "execution_count": 4,
   "metadata": {},
   "outputs": [
    {
     "name": "stdout",
     "output_type": "stream",
     "text": [
      "Me llamo Pepe y soy un Anfibio de color verde albahaca\n",
      "Me llamo Kermit y soy un Anfibio de color verde cartuja\n",
      "Las ranas pueden volar? False\n"
     ]
    }
   ],
   "source": [
    "class Anuros:\n",
    "    tiene_cola = False\n",
    "    tipo = \"Anfibio\"\n",
    "    def __init__(self, nombre, color):\n",
    "        self.nombre = nombre\n",
    "        self.color = color\n",
    "    def __str__(self):\n",
    "        return f\"Me llamo {self.nombre} y soy un {self.tipo} de color {self.color}\"\n",
    "    def mover(self):\n",
    "        print(\"*saltito*\")\n",
    "    def hablar(self):\n",
    "        print(\"croac croac\")\n",
    "\n",
    "class Ranidae(Anuros):\n",
    "    especie = \"Ranidae\"\n",
    "    def __init__(self, nombre, color, puede_volar):\n",
    "        self.puede_volar = puede_volar\n",
    "        super().__init__(nombre, color)\n",
    "\n",
    "class Bufonidae(Anuros):\n",
    "    especie = \"Bufonidae\"\n",
    "    def __init__(self, nombre, color):\n",
    "        super().__init__(nombre, color)\n",
    "\n",
    "    \n",
    "pepe = Bufonidae(\"Pepe\", \"verde albahaca\")\n",
    "print(pepe)\n",
    "\n",
    "kermit = Ranidae(\"Kermit\", \"verde cartuja\", False)\n",
    "print(kermit)\n",
    "\n",
    "print(f\"Las ranas pueden volar? {kermit.puede_volar}\")"
   ]
  }
 ],
 "metadata": {
  "kernelspec": {
   "display_name": "Python 3",
   "language": "python",
   "name": "python3"
  },
  "language_info": {
   "codemirror_mode": {
    "name": "ipython",
    "version": 3
   },
   "file_extension": ".py",
   "mimetype": "text/x-python",
   "name": "python",
   "nbconvert_exporter": "python",
   "pygments_lexer": "ipython3",
   "version": "3.10.10"
  },
  "orig_nbformat": 4
 },
 "nbformat": 4,
 "nbformat_minor": 2
}
