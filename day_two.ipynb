{
 "cells": [
  {
   "attachments": {},
   "cell_type": "markdown",
   "metadata": {},
   "source": [
    "# Fix last challenge day one"
   ]
  },
  {
   "cell_type": "code",
   "execution_count": null,
   "metadata": {},
   "outputs": [],
   "source": [
    "def calculadora(numero1, numero2):\n",
    "    suma = numero1 + numero2\n",
    "    resta = numero1 - numero2\n",
    "    multiplicacion = numero1 * numero2\n",
    "    print(f\"la suma es {suma}, la resta es {resta} y su multiplicacion {multiplicacion} \")\n",
    "\n",
    "calculadora(5,3)"
   ]
  },
  {
   "attachments": {},
   "cell_type": "markdown",
   "metadata": {},
   "source": [
    "### Challenge 🤺 - 15m\n",
    "\n",
    "Escribir un programa en el que se pregunte al usuario por una temperatura (en grados Celsius), imprima la temperatura escrita, y luego clasificar la temperatura ingresada en los siguientes niveles:\n",
    "\n",
    "Entre -10 y 18 grados, que imprima \"Fresquete\".\n",
    "Entre 19 y 30 grados, que imprima \"Calor'i\".\n",
    "Entre 31 y 45 grados, que imprima \"Hakuuuuuu\".\n",
    "Para todo lo demás, imprimir \"Ñamano mba'e!\".\n",
    "\n",
    "Tip: Pueden haber tantos elif como lo necesites"
   ]
  },
  {
   "cell_type": "code",
   "execution_count": 2,
   "metadata": {},
   "outputs": [
    {
     "name": "stdout",
     "output_type": "stream",
     "text": [
      "Fresquete\n",
      "Estamos con 0.1 °C grados\n"
     ]
    }
   ],
   "source": [
    "temperature = float(input(\"Favor ingrese el valor de la temperatura en Celsius\"))\n",
    "if temperature >= -10 and temperature <= 18:\n",
    "    print(\"Fresquete\")\n",
    "elif temperature >= 19 and temperature <=30:\n",
    "    print(\"Calor'i\")\n",
    "elif temperature >=31 and temperature <=45:\n",
    "    print(\"Hakuuuuuu\")\n",
    "else:\n",
    "    print(\"Ñamano mba'e!\")\n",
    "\n",
    "print(f\"Estamos con {temperature} °C grados\")\n"
   ]
  },
  {
   "attachments": {},
   "cell_type": "markdown",
   "metadata": {},
   "source": [
    "### Challenge 🤺 - 15m\n",
    "Escribir un programa que almacene una contraseña en una variable, y pregunte al usuario por la contraseña hasta que introduzca la contraseña correcta.\n",
    "\n",
    "Cuando el usuario ingrese la contrasena correcta, imprimir un mensaje secreto."
   ]
  },
  {
   "cell_type": "code",
   "execution_count": null,
   "metadata": {},
   "outputs": [],
   "source": [
    "contrasena_correcta = \"caballo\"\n",
    "\n",
    "while True:\n",
    "    contrasena = input('Favor ingresar su  contraseña')\n",
    "    if contrasena == contrasena_correcta:\n",
    "        print('Contraseña correcta')\n",
    "        break\n",
    "    else:\n",
    "        print('Contraseña incorrecta.')\n",
    "\n",
    "msg_oculto = \"What's Up\"\n",
    "print('Mensaje secreto:', msg_oculto)\n"
   ]
  },
  {
   "attachments": {},
   "cell_type": "markdown",
   "metadata": {},
   "source": [
    "```python \n",
    "lista_participantes=[\"Maga\",\"Juan\",\"Florencia\",\"Bienvenido\",\"Luis\"]\n",
    "\n",
    "#diferentes tipos de datos en una lista\n",
    "lista_booleanos = [True, False, False,True]\n",
    "lista_numeros =[5, 4.5, 78, 22, 1.5]\n",
    "lista_variada = [5, 'Edu', 'Lucas', True, 6.7]\n",
    "\n",
    "#Acceso a los elementos de una lista\n",
    "print(lista_participantes[0]) # el cero indica la posicion del primer elemento\n",
    "print(lista_participantes[4])\n",
    "\n",
    "#contar los elementos de una lista\n",
    "print(len(lista_participantes)) #len() cuenta los elementos de la lista, dentro del parentesis va el nombre de la lista\n",
    "\n",
    "#anhadir elemento al final de la lista\n",
    "lista_participantes.append(\"jose\")\n",
    "print(lista_participantes)\n",
    "\n",
    "#modificar elemento\n",
    "lista_participantes[0] = 'Ivana'\n",
    "print(lista_participantes)\n",
    "\n",
    "#eliminar elemento especifico por valor\n",
    "lista_participantes.remove(\"Ivana\")\n",
    "print(lista_participantes)\n",
    "\n",
    "#eliminar elemento especifico por posicion\n",
    "lista_participantes.pop(2)\n",
    "print(lista_participantes)\n",
    "```"
   ]
  },
  {
   "attachments": {},
   "cell_type": "markdown",
   "metadata": {},
   "source": [
    "### Challenge 🤺 - 15m\n",
    "\n",
    "Crear una lista de 5 elementos. Luego, seguir los siguientes pasos.\n",
    "\n",
    "- Agregar un elemento al final de la lista.\n",
    "\n",
    "- Modificar el segundo elemento.\n",
    "\n",
    "- Eliminar el tercer elemento.\n"
   ]
  },
  {
   "cell_type": "code",
   "execution_count": 11,
   "metadata": {},
   "outputs": [
    {
     "name": "stdout",
     "output_type": "stream",
     "text": [
      "['Jaguar', None, 'Tesla', 'BMW', 'Mini', 'Volkswagen']\n",
      "['Jaguar', 'Chevrolet', 'Tesla', 'BMW', 'Mini', 'Volkswagen']\n",
      "['Jaguar', 'Chevrolet', 'BMW', 'Mini', 'Volkswagen']\n"
     ]
    }
   ],
   "source": [
    "lista = [ \"Jaguar\", None, \"Tesla\", \"BMW\", \"Mini\"]\n",
    "\n",
    "lista.append(\"Volkswagen\")\n",
    "print(lista)\n",
    "\n",
    "lista[1] = \"Chevrolet\"\n",
    "print(lista)\n",
    "\n",
    "lista.pop(2)\n",
    "print(lista)\n"
   ]
  },
  {
   "attachments": {},
   "cell_type": "markdown",
   "metadata": {},
   "source": [
    "### Challenge 🤺 - 15m\n",
    "\n",
    "Escribir un programa que itere en un rango de 10 veces. Por cada iteracion multiplicar el iterador por dos e imprimir el resultado.\n",
    "ej:\n",
    "- El resultado de 1 * 2 es 2 \n",
    "- El resultado de 2 * 2 es 4 \n",
    "- El resultado de 3 * 2 es 6\n",
    "- ... \n"
   ]
  },
  {
   "cell_type": "code",
   "execution_count": 13,
   "metadata": {},
   "outputs": [
    {
     "name": "stdout",
     "output_type": "stream",
     "text": [
      "El resultado de 0 * 2 es 0\n",
      "El resultado de 1 * 2 es 2\n",
      "El resultado de 2 * 2 es 4\n",
      "El resultado de 3 * 2 es 6\n",
      "El resultado de 4 * 2 es 8\n",
      "El resultado de 5 * 2 es 10\n",
      "El resultado de 6 * 2 es 12\n",
      "El resultado de 7 * 2 es 14\n",
      "El resultado de 8 * 2 es 16\n",
      "El resultado de 9 * 2 es 18\n"
     ]
    }
   ],
   "source": [
    "for iterador in range(10):\n",
    "    producto = iterador * 2\n",
    "    print(f\"El resultado de {iterador} * 2 es {producto}\")"
   ]
  },
  {
   "cell_type": "code",
   "execution_count": 18,
   "metadata": {},
   "outputs": [
    {
     "name": "stdout",
     "output_type": "stream",
     "text": [
      "La marca adidas tiene 6 caracteres\n",
      "La marca gotitas tiene 7 caracteres\n",
      "Otra solucion\n",
      "La marca adidas tiene 6 caracteres\n",
      "La marca gotitas tiene 7 caracteres\n"
     ]
    }
   ],
   "source": [
    "# Definicion de lista\n",
    "lista_marcas = [\"nike\", \"vans\", \"adidas\", \"luomo\", \"dior\", \"gotitas\"]\n",
    "\n",
    "# Definicion de ciclo for\n",
    "# iterador i (cada objeto de la lista, strings en este caso)\n",
    "for i in lista_marcas:\n",
    "    # condicion, si el largor de i es mayor o igual a 6\n",
    "    if len(i) >= 6:\n",
    "        # imprime el objeto\n",
    "        print(f\"La marca {i} tiene {len(i)} caracteres\")\n",
    "\n",
    "\n",
    "# OTRO METODO\n",
    "print(\"Otra solucion\")\n",
    "# Definicion de tamaño de lista\n",
    "tamano_lista = len(lista_marcas)\n",
    "\n",
    "# Ciclo por \n",
    "for i in range(tamano_lista):\n",
    "    if len(lista_marcas[i]) >= 6:\n",
    "        print(f\"La marca {lista_marcas[i]} tiene {len(lista_marcas[i])} caracteres\")\n"
   ]
  },
  {
   "attachments": {},
   "cell_type": "markdown",
   "metadata": {},
   "source": [
    "### Challenge 🤺 - 15m\n",
    "\n",
    "Solicitar al usuario que ingrese una frase y almacenarlo en una variable.\n",
    "\n",
    "Imprimir un mensaje (p.e.: \"Encontré la 'o'\") cada vez que se encuentre una letra \"o\" en la frase ingresada."
   ]
  },
  {
   "cell_type": "code",
   "execution_count": 20,
   "metadata": {},
   "outputs": [
    {
     "name": "stdout",
     "output_type": "stream",
     "text": [
      "Encontré la 'o'\n",
      "Encontré la 'o'\n"
     ]
    }
   ],
   "source": [
    "def encuentra_o(letra):\n",
    "    \"\"\" Funcion que verifica si la letra recibida es una letra o\"\"\"\n",
    "    if letra == \"o\":\n",
    "        return True\n",
    "    else:\n",
    "        return False\n",
    "    \n",
    "# Preguntar al usuario por la frase\n",
    "frase = input(\"Favor ingresar una frase\")\n",
    "\n",
    "# Iterar por cada letra en la frase\n",
    "for letra in frase:\n",
    "    # Verifica si la letra es una o\n",
    "    if encuentra_o(letra):\n",
    "        # Imprime mensaje\n",
    "        print(\"Encontré la 'o'\")\n",
    "\n"
   ]
  }
 ],
 "metadata": {
  "kernelspec": {
   "display_name": "Python 3",
   "language": "python",
   "name": "python3"
  },
  "language_info": {
   "codemirror_mode": {
    "name": "ipython",
    "version": 3
   },
   "file_extension": ".py",
   "mimetype": "text/x-python",
   "name": "python",
   "nbconvert_exporter": "python",
   "pygments_lexer": "ipython3",
   "version": "3.10.10"
  },
  "orig_nbformat": 4
 },
 "nbformat": 4,
 "nbformat_minor": 2
}
