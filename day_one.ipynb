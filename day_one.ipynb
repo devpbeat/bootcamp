{
 "cells": [
  {
   "cell_type": "code",
   "execution_count": null,
   "metadata": {},
   "outputs": [],
   "source": [
    "print('Hola mundo')\n",
    "print('Hola chicos!')"
   ]
  },
  {
   "attachments": {},
   "cell_type": "markdown",
   "metadata": {},
   "source": [
    "## Challenge 🤺 - 15m\n",
    "\n",
    "Suma: asignar dos números en dos variables diferentes cantidad_de_manzanas y cantidad_de_naranjas. Luego sumar ambas variables en cantidad_de_frutas. Imprimir la última variable.\n",
    "\n",
    "Resta: asignar un valor numérico a la variable frutas_vendidas. Luego, asignar la resta entre cantidad_de_frutas y frutas_vendidas a la variable frutas_restantes. Imprimir la última variable."
   ]
  },
  {
   "cell_type": "code",
   "execution_count": 1,
   "metadata": {},
   "outputs": [
    {
     "name": "stdout",
     "output_type": "stream",
     "text": [
      "La cantidad de frutas es:  11\n",
      "La cantidad de frutas es:  1\n"
     ]
    }
   ],
   "source": [
    "\"\"\" Definicion de variables cantidad de manzanas y naranjas \"\"\"\n",
    "cantidad_de_manzanas = 5\n",
    "cantidad_de_naranjas = 6\n",
    "# Suma  de variables\n",
    "cantidad_de_frutas = (int(cantidad_de_manzanas) + int(cantidad_de_naranjas))\n",
    "# Imprimir suma\n",
    "print(\"La cantidad de frutas es: \", cantidad_de_frutas)\n",
    "\n",
    "# Definicion  de variable\n",
    "frutas_vendidas = 10\n",
    "# Resta de cantidad de frutas con frutas vendidas\n",
    "frutas_restantes = (int(cantidad_de_frutas) - int(frutas_vendidas))\n",
    "# Imprimir frutas restantes\n",
    "print(\"La cantidad de frutas es: \", frutas_restantes)"
   ]
  },
  {
   "attachments": {},
   "cell_type": "markdown",
   "metadata": {},
   "source": [
    "# Jugando con textos\n",
    "Explicacion de como utilizar los textos (strings) en python"
   ]
  },
  {
   "cell_type": "markdown",
   "metadata": {},
   "source": []
  },
  {
   "cell_type": "code",
   "execution_count": null,
   "metadata": {},
   "outputs": [],
   "source": [
    "nombre = \"Nahuel\"\n",
    "apellido = \"Pereira\"\n",
    "edad = 22\n",
    "\n",
    "# Imprimir nombre, apellido y edad\n",
    "print(\"Hola mi nombre es: \", nombre, apellido, \"y tengo\", edad, \"años\")\n",
    "\n",
    "# Formateo de strings\n",
    "print(\"Hola mi nombre es: {} {} y tengo {} años\".format(nombre, apellido, edad))\n",
    "print(f\"\"\"Nombre: {nombre}\\nApellido: {apellido}\\nEdad: {edad}\"\"\")"
   ]
  },
  {
   "attachments": {},
   "cell_type": "markdown",
   "metadata": {},
   "source": [
    "# Challenge 🗿 - 15m\n",
    "\n",
    "Asignar el nombre y el apellido de tu compañera/o a las variables nombre y apellido. Luego, imprimir una frase, utilizando las variables.\n",
    "EJEMPLO: \"Hola. Me llamo Sergio Blanco. Mucho gusto.\"\n",
    "nombre = \"Sergio\"\n",
    "apellido = \"Blanco\"\n",
    "\n",
    "### Podemos sumar textos + variables del mismo tipo\n",
    "print(f\"Hola. Mi nombre es {nombre} {apellido}, Mucho gusto.\")"
   ]
  },
  {
   "cell_type": "code",
   "execution_count": null,
   "metadata": {},
   "outputs": [],
   "source": [
    "# Definicion de variables: nombre y apellido\n",
    "nombre = \"Pedro\"\n",
    "apellido = \"Urdapilleta\"\n",
    "\n",
    "# Imprimir nombre y apellido\n",
    "print(f\"Hola. Mi nombre es {nombre} {apellido}. Mucho gusto\")\n",
    "\n",
    "# Otro tipo de format\n",
    "print(\"Hola. Me llamo {} {}. Mucho gusto\".format(nombre,apellido))\n",
    "\n",
    "# Otro tipo de formateo\n",
    "print(\"Hola. Me llamo %s %s. Mucho gusto\" % (nombre, apellido))\n"
   ]
  },
  {
   "attachments": {},
   "cell_type": "markdown",
   "metadata": {},
   "source": [
    "## Challenge 🤺 - 15m\n",
    "\n",
    "Crear un app Vaquita:\n",
    "- Declarar el monto total a pagar\n",
    "- La cantidad de personas \n",
    "Al final, imprimir el monto que debe pagar cada persona de la siguiente forma:\n",
    "\"El monto a pagar es de 10000 guaranies. Cada persona debe pagar 2000 guaranies.\""
   ]
  },
  {
   "cell_type": "code",
   "execution_count": 2,
   "metadata": {},
   "outputs": [
    {
     "name": "stdout",
     "output_type": "stream",
     "text": [
      "Iniciando app Vaquita\n",
      "El monto a pagar por cada persona es: 5,000.0 Gs.\n"
     ]
    }
   ],
   "source": [
    "# Saludo inicial\n",
    "print(\"Iniciando app Vaquita\")\n",
    "# Definicion de variables\n",
    "monto_total_a_pagar = input(\"Favor ingresar el monto total a pagar: \")\n",
    "cantidad_de_personas = input(\"Favor ingresar la cantidad de personas: \")\n",
    "\n",
    "# Calculo de monto a pagar por persona\n",
    "monto_a_pagar_por_persona = float(int(monto_total_a_pagar) / int(cantidad_de_personas))\n",
    "\n",
    "# Imprimir el total a pagar por persona formateando el dato para mayor legibilidad\n",
    "print(f\"El monto a pagar es de {monto_total_a_pagar:,} guaranies. Cada persona debe pagar {monto_a_pagar_por_persona:,} guaranies.\")"
   ]
  },
  {
   "attachments": {},
   "cell_type": "markdown",
   "metadata": {},
   "source": [
    "## Challenge 🤺 - 15m\n",
    "\n",
    "Solicitar al usuario ingresar dos productos y almacenar sus precios y cantidades. Luego, imprimir la suma de los precios de cada productos.\n",
    "\n",
    "Sugerencia: convertir los precios a números enteros antes de sumarlos.\n",
    "\n",
    "Ejemplo resultado:\n",
    "- Los panes alcanzan: 12000\n",
    "- Los chocolates alcanzan: 23000"
   ]
  },
  {
   "cell_type": "code",
   "execution_count": 2,
   "metadata": {},
   "outputs": [
    {
     "name": "stdout",
     "output_type": "stream",
     "text": [
      "Los locotes alcanzan: 4,000 Gs.\n",
      "Los chocolates alcanzan: 12,000 Gs.\n"
     ]
    }
   ],
   "source": [
    "# Definicion de nombre, precio y cantidad del primer producto.\n",
    "nombre_producto_uno = input(\"Favor ingresar el nombre del primer producto: \")\n",
    "precio_producto_uno = input(\"Favor ingresar el precio del primer producto: \")\n",
    "cantidades_producto_uno = input(\"Favor ingresar la cantidad del primer producto: \")\n",
    "\n",
    "# Definicion de nombre, precio y cantidad del segundo producto.\n",
    "nombre_producto_dos = input(\"Favor ingresar el nombre del segundo producto: \")\n",
    "precio_producto_dos = input(\"Favor ingresar el precio del segundo producto: \")\n",
    "cantidades_producto_dos = input(\"Favor ingresar la cantidad del segundo producto: \")\n",
    "\n",
    "# Suma de precios de cada producto.\n",
    "suma_total_producto_uno = int(precio_producto_uno) * int(cantidades_producto_uno)\n",
    "suma_total_producto_dos = int(precio_producto_dos) * int(cantidades_producto_dos)\n",
    "\n",
    "# Imprimir resultados\n",
    "print(f\"Los {nombre_producto_uno} alcanzan: {suma_total_producto_uno:,} Gs.\")\n",
    "print(f\"Los {nombre_producto_dos} alcanzan: {suma_total_producto_dos:,} Gs.\")\n"
   ]
  },
  {
   "attachments": {},
   "cell_type": "markdown",
   "metadata": {},
   "source": [
    "## Challenge 🤺 - 15m\n",
    "\n",
    "Crear una función para su presupuesto mensual y que imprima cuanto dinero les sobra.\n",
    "Ejecutar la función 3 veces.\n",
    "Ejemplo:\n",
    "presupuesto mensual = 450000\n",
    "gastos mensuales = 150000\n",
    "dinero sobrante = presupuesto mensual - gastos mensuales"
   ]
  },
  {
   "cell_type": "code",
   "execution_count": 5,
   "metadata": {},
   "outputs": [
    {
     "name": "stdout",
     "output_type": "stream",
     "text": [
      "El dinero sobrante es: 850\n",
      "El dinero sobrante es: 1,550\n",
      "El dinero sobrante es: 0\n",
      "El dinero sobrante en la totalidad es de: -700\n"
     ]
    }
   ],
   "source": [
    "# Presupuesto mensual\n",
    "def calculo_de_presupuesto_mensual():\n",
    "    # Declaracion de variables\n",
    "    presupuesto_mensual = input(\"Favor ingrese su presupuesto mensual\")\n",
    "    gastos_mensuales = input(\"Favor ingrese sus gastos mensuales: \")\n",
    "    # Resta de presupuesto mensual con gastos mensuales y guardar en variable\n",
    "    dinero_sobrante = int(presupuesto_mensual) - int(gastos_mensuales)\n",
    "    # Imprimir dinero sobrante\n",
    "    print(f\"El dinero sobrante es: {dinero_sobrante:,}\")\n",
    "calculo_de_presupuesto_mensual()\n",
    "calculo_de_presupuesto_mensual()\n",
    "calculo_de_presupuesto_mensual()"
   ]
  },
  {
   "attachments": {},
   "cell_type": "markdown",
   "metadata": {},
   "source": [
    "## Challenge 🤺 - 15m\n",
    "\n",
    "Dada la función que acabamos de crear, definir un parametro mas del dato del estudiante que quiera agregar."
   ]
  },
  {
   "cell_type": "code",
   "execution_count": 8,
   "metadata": {},
   "outputs": [
    {
     "name": "stdout",
     "output_type": "stream",
     "text": [
      "El estudiante Nahuel Pereira fue agregado a la lista.\n",
      "Datos del estudiante\n",
      "Nombre: Nahuel.\n",
      "Apellido: Pereira.\n",
      "Edad: 22 años.\n",
      "Nacionalidad: Paraguaya.\n"
     ]
    }
   ],
   "source": [
    "def agregar_estudiante(nombre, apellido, edad, nacionalidad):\n",
    "    print(f\"El estudiante {nombre} {apellido} fue agregado a la lista.\")\n",
    "    print(f\"Datos del estudiante\\nNombre: {nombre}.\\nApellido: {apellido}.\\nEdad: {str(edad)} años.\\nNacionalidad: {nacionalidad}.\")\n",
    "\n",
    "nombre = \"Nahuel\"\n",
    "apellido = \"Pereira\"\n",
    "edad = 22\n",
    "nacionalidad = \"Paraguaya\"\n",
    "\n",
    "agregar_estudiante(nombre, apellido, edad, nacionalidad)"
   ]
  },
  {
   "attachments": {},
   "cell_type": "markdown",
   "metadata": {},
   "source": [
    "## Challenge 🤺 - 15m\n",
    "Crear una función \"calculadora\" que reciba como parametro dos numeros y que realize operaciones con ellos (suma, resta, multiplicacion) e imprima sus resultados en un mensaje. \n",
    "- Ejemplo: print(f\"la suma es {resultado_suma}, la resta es {resultado_resta} y su multiplicacion {resultado_multiplicacion} \")"
   ]
  },
  {
   "cell_type": "code",
   "execution_count": 1,
   "metadata": {},
   "outputs": [
    {
     "name": "stdout",
     "output_type": "stream",
     "text": [
      "la suma es 8, la resta es 2 y su multiplicacion 15 \n"
     ]
    }
   ],
   "source": [
    "# Calculadora\n",
    "\n",
    "def suma(primer_sumando, segundo_sumando):\n",
    "    return print(f\"El resultado de la suma es: {str(primer_sumando + segundo_sumando)}\")\n",
    "\n",
    "def resta(minuendo, sustraendo):\n",
    "    return print(f\"El resultado de la resta es: {str(minuendo - sustraendo)}\")\n",
    "\n",
    "def multiplicacion(primer_factor, segundo_factor):\n",
    "    return print(f\"El resultado de la multiplicacion es: {str(primer_factor * segundo_factor)}\")\n",
    "\n",
    "suma(2,3)\n",
    "resta(5,3)\n",
    "multiplicacion(2,3)"
   ]
  }
 ],
 "metadata": {
  "kernelspec": {
   "display_name": "Python 3",
   "language": "python",
   "name": "python3"
  },
  "language_info": {
   "codemirror_mode": {
    "name": "ipython",
    "version": 3
   },
   "file_extension": ".py",
   "mimetype": "text/x-python",
   "name": "python",
   "nbconvert_exporter": "python",
   "pygments_lexer": "ipython3",
   "version": "3.10.10"
  },
  "orig_nbformat": 4
 },
 "nbformat": 4,
 "nbformat_minor": 2
}
